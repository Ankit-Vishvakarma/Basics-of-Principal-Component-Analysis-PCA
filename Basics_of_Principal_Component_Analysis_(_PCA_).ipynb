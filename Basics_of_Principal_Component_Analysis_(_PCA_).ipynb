{
  "cells": [
    {
      "cell_type": "markdown",
      "metadata": {
        "id": "view-in-github",
        "colab_type": "text"
      },
      "source": [
        "<a href=\"https://colab.research.google.com/github/Ankit-Vishvakarma/Basics-of-Principal-Component-Analysis-PCA/blob/main/Basics_of_Principal_Component_Analysis_(_PCA_).ipynb\" target=\"_parent\"><img src=\"https://colab.research.google.com/assets/colab-badge.svg\" alt=\"Open In Colab\"/></a>"
      ]
    },
    {
      "cell_type": "markdown",
      "metadata": {
        "id": "jhU7umrHIUHw"
      },
      "source": [
        "# **Basics of Principal Component Analysis ( PCA )**"
      ]
    },
    {
      "cell_type": "code",
      "execution_count": null,
      "metadata": {
        "id": "ExZGfzxFIncV"
      },
      "outputs": [],
      "source": [
        "import numpy as np\n",
        "from sklearn.decomposition import PCA\n",
        "import pandas as pd\n",
        "import matplotlib.pyplot as plt\n",
        "\n",
        "df = pd.read_csv ('Health.csv')\n",
        "\n",
        "X = df.iloc [:,0:3].values  # X is independent variable\n",
        "y = df.iloc [:,3].values   #dependent variable\n",
        "\n",
        "#print(X)\n",
        "#print(y)\n",
        "from sklearn.impute import SimpleImputer\n",
        "missingValueImputer = SimpleImputer(missing_values=np.nan, strategy='mean')\n",
        "#from sklearn.preprocessing import Imputer\n",
        "# First create an Imputer , Stratergy means what we want to write in place of missed value\n",
        "#missingValueImputer = Imputer (missing_values = 'NaN', strategy = 'mean',  axis = 0)  #if missing values are represented by 9999 then write same here\n",
        "# Set which columns imputer should perform\n",
        "missingValueImputer = missingValueImputer.fit (X[:,1:3])\n",
        "# update values of X with new values\n",
        "X[:,1:3] = missingValueImputer.transform(X[:,1:3])\n",
        "\n",
        "\n",
        "\n",
        "from sklearn.preprocessing import LabelEncoder\n",
        "X_labelencoder = LabelEncoder()\n",
        "X[:, 0] = X_labelencoder.fit_transform(X[:, 0])\n",
        "#print (X)\n",
        "\n",
        "# for y\n",
        "y_labelencoder = LabelEncoder ()\n",
        "y = y_labelencoder.fit_transform (y)\n",
        "#print (y)"
      ]
    },
    {
      "cell_type": "code",
      "execution_count": null,
      "metadata": {
        "colab": {
          "base_uri": "https://localhost:8080/"
        },
        "id": "Vk5Ha_c1Iskw",
        "outputId": "94981e46-c507-4690-c637-4848926b1af8"
      },
      "outputs": [
        {
          "output_type": "stream",
          "name": "stdout",
          "text": [
            "before PCA: \n",
            "[[2 186.0 90.0]\n",
            " [0 185.0 98.0]\n",
            " [1 175.0 80.0]\n",
            " [2 180.0 88.0]\n",
            " [1 178.0 85.25]\n",
            " [1 172.0 72.0]\n",
            " [0 178.0 75.0]\n",
            " [2 180.0 89.0]\n",
            " [0 186.0 90.0]]\n",
            "After doing PCA\n",
            "[[ -7.06292449   2.81250625]\n",
            " [-13.57442999  -1.65347908]\n",
            " [  7.01369106  -1.82482999]\n",
            " [ -2.40970644  -1.4409998 ]\n",
            " [  0.96762908  -1.7377904 ]\n",
            " [ 15.4664579   -0.592055  ]\n",
            " [  9.94107604   3.3027037 ]\n",
            " [ -3.28487184  -1.92093237]\n",
            " [ -7.05692131   3.0548767 ]]\n"
          ]
        }
      ],
      "source": [
        "print(\"before PCA: \")\n",
        "print(X)\n",
        "pc = PCA(n_components=2)\n",
        "pc.fit(X)\n",
        "\n",
        "X_pca = pc.transform(X)\n",
        "print(\"After doing PCA\")\n",
        "print(X_pca)"
      ]
    },
    {
      "cell_type": "code",
      "execution_count": null,
      "metadata": {
        "id": "J6I3u6QmI-Kb",
        "colab": {
          "base_uri": "https://localhost:8080/"
        },
        "outputId": "657e52f7-3d30-4a35-90f3-833d918068ea"
      },
      "outputs": [
        {
          "output_type": "stream",
          "name": "stdout",
          "text": [
            "original shape:    (9, 3)\n",
            "transformed shape: (9, 2)\n"
          ]
        }
      ],
      "source": [
        "print(\"original shape:   \", X.shape)  # (9,3)\n",
        "print(\"transformed shape:\", X_pca.shape) #(9,2) when n_components =2 "
      ]
    },
    {
      "cell_type": "code",
      "source": [
        "#returns a vector of the variance explained by each dimension\n",
        "\n",
        "print(pc.explained_variance_ratio_)   # # 93% data belongs to first axis and 5% data belongs to the second axis and remaining belongs to others"
      ],
      "metadata": {
        "colab": {
          "base_uri": "https://localhost:8080/"
        },
        "id": "bHICmL0NLPDA",
        "outputId": "9f768b80-c5c5-4d0c-d78b-b6776cc489ce"
      },
      "execution_count": null,
      "outputs": [
        {
          "output_type": "stream",
          "name": "stdout",
          "text": [
            "[0.93384643 0.05878131]\n"
          ]
        }
      ]
    },
    {
      "cell_type": "code",
      "source": [
        "df = pd.DataFrame(X_pca,columns = ['PCA1','PCA2'])\n",
        "print(df)\n",
        "#print(df.iloc[:,0])"
      ],
      "metadata": {
        "colab": {
          "base_uri": "https://localhost:8080/"
        },
        "id": "zqYDm4QiLXvS",
        "outputId": "f4d79219-b905-47de-91b3-43298f2df3d4"
      },
      "execution_count": null,
      "outputs": [
        {
          "output_type": "stream",
          "name": "stdout",
          "text": [
            "        PCA1      PCA2\n",
            "0  -7.062924  2.812506\n",
            "1 -13.574430 -1.653479\n",
            "2   7.013691 -1.824830\n",
            "3  -2.409706 -1.441000\n",
            "4   0.967629 -1.737790\n",
            "5  15.466458 -0.592055\n",
            "6   9.941076  3.302704\n",
            "7  -3.284872 -1.920932\n",
            "8  -7.056921  3.054877\n"
          ]
        }
      ]
    },
    {
      "cell_type": "code",
      "source": [
        "plt.plot(df)\n",
        "plt.show()"
      ],
      "metadata": {
        "colab": {
          "base_uri": "https://localhost:8080/",
          "height": 265
        },
        "id": "P0zLFumTLa3Q",
        "outputId": "d394d0bb-e1b8-4f61-f26e-b4d9310a8e2e"
      },
      "execution_count": null,
      "outputs": [
        {
          "output_type": "display_data",
          "data": {
            "text/plain": [
              "<Figure size 432x288 with 1 Axes>"
            ],
            "image/png": "[encoded data removed]"
          },
          "metadata": {
            "needs_background": "light"
          }
        }
      ]
    },
    {
      "cell_type": "code",
      "source": [
        ""
      ],
      "metadata": {
        "id": "e1Yp9xvyOU-a"
      },
      "execution_count": null,
      "outputs": []
    }
  ],
  "metadata": {
    "colab": {
      "name": "Basics of Principal Component Analysis ( PCA ).ipynb",
      "provenance": [],
      "mount_file_id": "191xHawvouMfPwN38wxyjAwXcTgEklHRx",
      "authorship_tag": "ABX9TyP05ny+084Q4w3VMu/N/ut9",
      "include_colab_link": true
    },
    "kernelspec": {
      "display_name": "Python 3",
      "name": "python3"
    },
    "language_info": {
      "name": "python"
    }
  },
  "nbformat": 4,
  "nbformat_minor": 0
}